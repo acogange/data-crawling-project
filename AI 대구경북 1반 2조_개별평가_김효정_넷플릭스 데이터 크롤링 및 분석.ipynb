{
 "cells": [
  {
   "cell_type": "markdown",
   "metadata": {
    "id": "gjb4QFVumX9X"
   },
   "source": [
    "### Netflix EDA\n",
    "- 아래의 서비스에서 데이터를 수집하여 EDA를 수행하세요.\n",
    "\n",
    "\n",
    "- flixpatrol 사이트에서 데이터 수집\n",
    "    - `https://flixpatrol.com/top10/netflix/world/2021/full/#netflix-1`\n",
    "\n",
    "\n",
    "- kaggle에서 netflix 컨텐츠 데이터 수집\n",
    "    - `https://www.kaggle.com/shivamb/netflix-shows`\n",
    "\n",
    "\n",
    "- 컨텐츠의 등급데이터는 아래의 코드 사용\n",
    "```\n",
    "ratings_ages = {'TV-PG': 'Older Kids', 'TV-MA': 'Adults', 'TV-Y7-FV': 'Older Kids',\n",
    "                  'TV-Y7': 'Older Kids', 'TV-14': 'Teens', 'R': 'Adults', 'TV-Y': 'Kids',\n",
    "                  'NR': 'Adults', 'PG-13': 'Teens', 'TV-G': 'Kids', 'PG': 'Older Kids',\n",
    "                  'G': 'Kids', 'UR': 'Adults', 'NC-17': 'Adults'}\n",
    "```"
   ]
  },
  {
   "cell_type": "code",
   "execution_count": 147,
   "metadata": {},
   "outputs": [],
   "source": [
    "import pandas as pd\n",
    "import requests\n",
    "from bs4 import BeautifulSoup"
   ]
  },
  {
   "cell_type": "code",
   "execution_count": 148,
   "metadata": {},
   "outputs": [],
   "source": [
    "# 1. 웹서비스 분석 : 개발자 도구 : URL\n",
    "url=\"https://flixpatrol.com/top10/netflix/world/2021/full/\""
   ]
  },
  {
   "cell_type": "code",
   "execution_count": 149,
   "metadata": {},
   "outputs": [
    {
     "data": {
      "text/plain": [
       "<Response [200]>"
      ]
     },
     "execution_count": 149,
     "metadata": {},
     "output_type": "execute_result"
    }
   ],
   "source": [
    "# 2. request(url) > response : html\n",
    "response=requests.get(url)\n",
    "response"
   ]
  },
  {
   "cell_type": "code",
   "execution_count": 150,
   "metadata": {},
   "outputs": [
    {
     "data": {
      "text/plain": [
       "'<!DOCTYPE html>\\n<html lang=\"en\">\\n<head>\\n\\t<meta http-equiv=\"Content-Type\" content=\"text/html; charset=UTF-8\">\\n\\t<meta name=\"viewport\" content=\"width=device-width, initial-scale=1, shrink-to-fit=no\">\\n\\t<t'"
      ]
     },
     "execution_count": 150,
     "metadata": {},
     "output_type": "execute_result"
    }
   ],
   "source": [
    "response.text[:200]"
   ]
  },
  {
   "cell_type": "code",
   "execution_count": 151,
   "metadata": {},
   "outputs": [],
   "source": [
    "# 3. html(str) > bs, css-selecter > DataFrame"
   ]
  },
  {
   "cell_type": "code",
   "execution_count": 152,
   "metadata": {},
   "outputs": [],
   "source": [
    "# bs 객체 만들기\n",
    "dom = BeautifulSoup(response.text, \"html.parser\")"
   ]
  },
  {
   "cell_type": "code",
   "execution_count": 153,
   "metadata": {},
   "outputs": [
    {
     "data": {
      "text/plain": [
       "176"
      ]
     },
     "execution_count": 153,
     "metadata": {},
     "output_type": "execute_result"
    }
   ],
   "source": [
    "elements = dom.select(\"#netflix-1 > div.-mx-content > div > div > table > tbody > tr\")\n",
    "len(elements)"
   ]
  },
  {
   "cell_type": "code",
   "execution_count": 154,
   "metadata": {},
   "outputs": [
    {
     "data": {
      "text/plain": [
       "{'TITLE': 'Red Notice',\n",
       " 'POINTS': '25,918',\n",
       " 'CHANGE': '–',\n",
       " 'COUNTRIES': '90',\n",
       " 'COUNTRY': '288',\n",
       " 'DAYS': '48',\n",
       " 'DAY': '540',\n",
       " 'TOTAL': '25,918'}"
      ]
     },
     "execution_count": 154,
     "metadata": {},
     "output_type": "execute_result"
    }
   ],
   "source": [
    "# 각 상품에서 데이터 수집 : 2\n",
    "element = elements[0]\n",
    "data = {\n",
    "  \n",
    "    \"TITLE\":element.select_one(\".table-td:nth-child(3)\").text.strip(),\n",
    "     \"POINTS\":element.select_one(\".table-td:nth-child(4)\").text,\n",
    "    \"CHANGE\":element.select_one(\".table-td:nth-child(5)\").text,\n",
    "    \"COUNTRIES\":element.select_one(\".table-td:nth-child(6)\").text,\n",
    "    \"COUNTRY\":element.select_one(\".table-td:nth-child(7)\").text,\n",
    "    \"DAYS\":element.select_one(\".table-td:nth-child(8)\").text,\n",
    "    \"DAY\":element.select_one(\".table-td:nth-child(9)\").text,\n",
    "    \"TOTAL\":element.select_one(\".table-td:nth-child(10)\").text,\n",
    "}\n",
    "data"
   ]
  },
  {
   "cell_type": "code",
   "execution_count": 155,
   "metadata": {},
   "outputs": [
    {
     "data": {
      "text/html": [
       "<div>\n",
       "<style scoped>\n",
       "    .dataframe tbody tr th:only-of-type {\n",
       "        vertical-align: middle;\n",
       "    }\n",
       "\n",
       "    .dataframe tbody tr th {\n",
       "        vertical-align: top;\n",
       "    }\n",
       "\n",
       "    .dataframe thead th {\n",
       "        text-align: right;\n",
       "    }\n",
       "</style>\n",
       "<table border=\"1\" class=\"dataframe\">\n",
       "  <thead>\n",
       "    <tr style=\"text-align: right;\">\n",
       "      <th></th>\n",
       "      <th>TITLE</th>\n",
       "      <th>POINTS</th>\n",
       "      <th>COUNTRIES</th>\n",
       "      <th>DAYS</th>\n",
       "      <th>TOTAL</th>\n",
       "    </tr>\n",
       "  </thead>\n",
       "  <tbody>\n",
       "    <tr>\n",
       "      <th>0</th>\n",
       "      <td>Red Notice</td>\n",
       "      <td>25,918</td>\n",
       "      <td>90</td>\n",
       "      <td>48</td>\n",
       "      <td>25,918</td>\n",
       "    </tr>\n",
       "    <tr>\n",
       "      <th>1</th>\n",
       "      <td>We Can Be Heroes</td>\n",
       "      <td>25,311</td>\n",
       "      <td>82</td>\n",
       "      <td>214</td>\n",
       "      <td>25,311</td>\n",
       "    </tr>\n",
       "  </tbody>\n",
       "</table>\n",
       "</div>"
      ],
      "text/plain": [
       "              TITLE  POINTS COUNTRIES DAYS   TOTAL\n",
       "0        Red Notice  25,918        90   48  25,918\n",
       "1  We Can Be Heroes  25,311        82  214  25,311"
      ]
     },
     "execution_count": 155,
     "metadata": {},
     "output_type": "execute_result"
    }
   ],
   "source": [
    "datas1 = []\n",
    "for element in elements:\n",
    "    datas1.append({\n",
    "       \n",
    "    \"TITLE\":element.select_one(\".table-td:nth-child(3)\").text.strip(),\n",
    "    \"POINTS\":element.select_one(\".table-td:nth-child(4)\").text,\n",
    "    #\"CHANGE\":element.select_one(\".table-td:nth-child(5)\").text,\n",
    "    \"COUNTRIES\":element.select_one(\".table-td:nth-child(6)\").text,\n",
    "    #\"COUNTRY\":element.select_one(\".table-td:nth-child(7)\").text,\n",
    "    \"DAYS\":element.select_one(\".table-td:nth-child(8)\").text,\n",
    "    #\"DAY\":element.select_one(\".table-td:nth-child(9)\").text,\n",
    "    \"TOTAL\":element.select_one(\".table-td:nth-child(10)\").text,\n",
    "    })\n",
    "df1 = pd.DataFrame(datas1)\n",
    "df1.head(2)"
   ]
  },
  {
   "cell_type": "code",
   "execution_count": 156,
   "metadata": {},
   "outputs": [
    {
     "data": {
      "text/plain": [
       "152"
      ]
     },
     "execution_count": 156,
     "metadata": {},
     "output_type": "execute_result"
    }
   ],
   "source": [
    "elements = dom.select(\"#netflix-2 > div.-mx-content > div > div > table > tbody > tr\")\n",
    "len(elements)"
   ]
  },
  {
   "cell_type": "code",
   "execution_count": 157,
   "metadata": {},
   "outputs": [
    {
     "data": {
      "text/html": [
       "<div>\n",
       "<style scoped>\n",
       "    .dataframe tbody tr th:only-of-type {\n",
       "        vertical-align: middle;\n",
       "    }\n",
       "\n",
       "    .dataframe tbody tr th {\n",
       "        vertical-align: top;\n",
       "    }\n",
       "\n",
       "    .dataframe thead th {\n",
       "        text-align: right;\n",
       "    }\n",
       "</style>\n",
       "<table border=\"1\" class=\"dataframe\">\n",
       "  <thead>\n",
       "    <tr style=\"text-align: right;\">\n",
       "      <th></th>\n",
       "      <th>TITLE</th>\n",
       "      <th>POINTS</th>\n",
       "      <th>COUNTRIES</th>\n",
       "      <th>DAYS</th>\n",
       "      <th>TOTAL</th>\n",
       "    </tr>\n",
       "  </thead>\n",
       "  <tbody>\n",
       "    <tr>\n",
       "      <th>150</th>\n",
       "      <td>Beauty and the Baker</td>\n",
       "      <td>1,638</td>\n",
       "      <td>18</td>\n",
       "      <td>28</td>\n",
       "      <td>1,638</td>\n",
       "    </tr>\n",
       "    <tr>\n",
       "      <th>151</th>\n",
       "      <td>Zero Chill</td>\n",
       "      <td>1,631</td>\n",
       "      <td>49</td>\n",
       "      <td>20</td>\n",
       "      <td>1,631</td>\n",
       "    </tr>\n",
       "  </tbody>\n",
       "</table>\n",
       "</div>"
      ],
      "text/plain": [
       "                    TITLE POINTS COUNTRIES DAYS  TOTAL\n",
       "150  Beauty and the Baker  1,638        18   28  1,638\n",
       "151            Zero Chill  1,631        49   20  1,631"
      ]
     },
     "execution_count": 157,
     "metadata": {},
     "output_type": "execute_result"
    }
   ],
   "source": [
    "datas2 = []\n",
    "for element in elements:\n",
    "    datas2.append({\n",
    "       \n",
    "    \"TITLE\":element.select_one(\".table-td:nth-child(3)\").text.strip(),\n",
    "    \"POINTS\":element.select_one(\".table-td:nth-child(4)\").text,\n",
    "    #\"CHANGE\":element.select_one(\".table-td:nth-child(5)\").text,\n",
    "    \"COUNTRIES\":element.select_one(\".table-td:nth-child(6)\").text,\n",
    "    #\"COUNTRY\":element.select_one(\".table-td:nth-child(7)\").text,\n",
    "    \"DAYS\":element.select_one(\".table-td:nth-child(8)\").text,\n",
    "    #\"DAY\":element.select_one(\".table-td:nth-child(9)\").text,\n",
    "    \"TOTAL\":element.select_one(\".table-td:nth-child(10)\").text,\n",
    "    })\n",
    "df2 = pd.DataFrame(datas2)\n",
    "df2.tail(2)"
   ]
  },
  {
   "cell_type": "code",
   "execution_count": 158,
   "metadata": {},
   "outputs": [],
   "source": [
    "df1['type']='Movie'\n",
    "df2['type']='TV Show'"
   ]
  },
  {
   "cell_type": "code",
   "execution_count": 159,
   "metadata": {},
   "outputs": [
    {
     "data": {
      "text/plain": [
       "328"
      ]
     },
     "execution_count": 159,
     "metadata": {},
     "output_type": "execute_result"
    }
   ],
   "source": [
    "data_fix=pd.concat([df1,df2])\n",
    "len(data_fix)"
   ]
  },
  {
   "cell_type": "code",
   "execution_count": 160,
   "metadata": {},
   "outputs": [],
   "source": [
    "#2"
   ]
  },
  {
   "cell_type": "code",
   "execution_count": 222,
   "metadata": {},
   "outputs": [],
   "source": [
    "datas3=pd.read_csv(r\"C:\\Users\\User\\Downloads\\netflix_titles.csv\")"
   ]
  },
  {
   "cell_type": "code",
   "execution_count": 223,
   "metadata": {},
   "outputs": [
    {
     "data": {
      "text/plain": [
       "8807"
      ]
     },
     "execution_count": 223,
     "metadata": {},
     "output_type": "execute_result"
    }
   ],
   "source": [
    "len(datas3)"
   ]
  },
  {
   "cell_type": "code",
   "execution_count": null,
   "metadata": {},
   "outputs": [],
   "source": []
  },
  {
   "cell_type": "code",
   "execution_count": 191,
   "metadata": {},
   "outputs": [
    {
     "data": {
      "text/plain": [
       "0                                         Documentaries\n",
       "1       International TV Shows, TV Dramas, TV Mysteries\n",
       "2     Crime TV Shows, International TV Shows, TV Act...\n",
       "3                                Docuseries, Reality TV\n",
       "4     International TV Shows, Romantic TV Shows, TV ...\n",
       "5                    TV Dramas, TV Horror, TV Mysteries\n",
       "6                              Children & Family Movies\n",
       "7      Dramas, Independent Movies, International Movies\n",
       "8                          British TV Shows, Reality TV\n",
       "9                                      Comedies, Dramas\n",
       "10    Crime TV Shows, Docuseries, International TV S...\n",
       "11    Crime TV Shows, International TV Shows, TV Act...\n",
       "12                         Dramas, International Movies\n",
       "13                   Children & Family Movies, Comedies\n",
       "14         British TV Shows, Crime TV Shows, Docuseries\n",
       "15                               TV Comedies, TV Dramas\n",
       "16                  Documentaries, International Movies\n",
       "17    Crime TV Shows, Spanish-Language TV Shows, TV ...\n",
       "18                                            Thrillers\n",
       "19    International TV Shows, Spanish-Language TV Sh...\n",
       "Name: listed_in, dtype: object"
      ]
     },
     "execution_count": 191,
     "metadata": {},
     "output_type": "execute_result"
    }
   ],
   "source": [
    "datas3[\"listed_in\"].head(20)"
   ]
  },
  {
   "cell_type": "code",
   "execution_count": 224,
   "metadata": {},
   "outputs": [],
   "source": [
    "datas3[\"rating\"]=datas3[\"rating\"].map({'TV-PG': 'Older Kids', 'TV-MA': 'Adults', 'TV-Y7-FV': 'Older Kids',\n",
    "                'TV-Y7': 'Older Kids', 'TV-14': 'Teens', 'R': 'Adults', 'TV-Y': 'Kids',\n",
    "                'NR': 'Adults', 'PG-13': 'Teens', 'TV-G': 'Kids', 'PG': 'Older Kids',\n",
    "                'G': 'Kids', 'UR': 'Adults', 'NC-17': 'Adults'})"
   ]
  },
  {
   "cell_type": "code",
   "execution_count": 225,
   "metadata": {},
   "outputs": [
    {
     "data": {
      "text/html": [
       "<div>\n",
       "<style scoped>\n",
       "    .dataframe tbody tr th:only-of-type {\n",
       "        vertical-align: middle;\n",
       "    }\n",
       "\n",
       "    .dataframe tbody tr th {\n",
       "        vertical-align: top;\n",
       "    }\n",
       "\n",
       "    .dataframe thead th {\n",
       "        text-align: right;\n",
       "    }\n",
       "</style>\n",
       "<table border=\"1\" class=\"dataframe\">\n",
       "  <thead>\n",
       "    <tr style=\"text-align: right;\">\n",
       "      <th></th>\n",
       "      <th>show_id</th>\n",
       "      <th>type</th>\n",
       "      <th>title</th>\n",
       "      <th>director</th>\n",
       "      <th>cast</th>\n",
       "      <th>country</th>\n",
       "      <th>date_added</th>\n",
       "      <th>release_year</th>\n",
       "      <th>rating</th>\n",
       "      <th>duration</th>\n",
       "      <th>listed_in</th>\n",
       "      <th>description</th>\n",
       "    </tr>\n",
       "  </thead>\n",
       "  <tbody>\n",
       "    <tr>\n",
       "      <th>0</th>\n",
       "      <td>s1</td>\n",
       "      <td>Movie</td>\n",
       "      <td>Dick Johnson Is Dead</td>\n",
       "      <td>Kirsten Johnson</td>\n",
       "      <td>NaN</td>\n",
       "      <td>United States</td>\n",
       "      <td>September 25, 2021</td>\n",
       "      <td>2020</td>\n",
       "      <td>Teens</td>\n",
       "      <td>90 min</td>\n",
       "      <td>Documentaries</td>\n",
       "      <td>As her father nears the end of his life, filmm...</td>\n",
       "    </tr>\n",
       "    <tr>\n",
       "      <th>1</th>\n",
       "      <td>s2</td>\n",
       "      <td>TV Show</td>\n",
       "      <td>Blood &amp; Water</td>\n",
       "      <td>NaN</td>\n",
       "      <td>Ama Qamata, Khosi Ngema, Gail Mabalane, Thaban...</td>\n",
       "      <td>South Africa</td>\n",
       "      <td>September 24, 2021</td>\n",
       "      <td>2021</td>\n",
       "      <td>Adults</td>\n",
       "      <td>2 Seasons</td>\n",
       "      <td>International TV Shows, TV Dramas, TV Mysteries</td>\n",
       "      <td>After crossing paths at a party, a Cape Town t...</td>\n",
       "    </tr>\n",
       "  </tbody>\n",
       "</table>\n",
       "</div>"
      ],
      "text/plain": [
       "  show_id     type                 title         director  \\\n",
       "0      s1    Movie  Dick Johnson Is Dead  Kirsten Johnson   \n",
       "1      s2  TV Show         Blood & Water              NaN   \n",
       "\n",
       "                                                cast        country  \\\n",
       "0                                                NaN  United States   \n",
       "1  Ama Qamata, Khosi Ngema, Gail Mabalane, Thaban...   South Africa   \n",
       "\n",
       "           date_added  release_year  rating   duration  \\\n",
       "0  September 25, 2021          2020   Teens     90 min   \n",
       "1  September 24, 2021          2021  Adults  2 Seasons   \n",
       "\n",
       "                                         listed_in  \\\n",
       "0                                    Documentaries   \n",
       "1  International TV Shows, TV Dramas, TV Mysteries   \n",
       "\n",
       "                                         description  \n",
       "0  As her father nears the end of his life, filmm...  \n",
       "1  After crossing paths at a party, a Cape Town t...  "
      ]
     },
     "execution_count": 225,
     "metadata": {},
     "output_type": "execute_result"
    }
   ],
   "source": [
    "datas3.head(2)"
   ]
  },
  {
   "cell_type": "code",
   "execution_count": 226,
   "metadata": {},
   "outputs": [],
   "source": [
    "datas3=datas3.dropna(axis=0)"
   ]
  },
  {
   "cell_type": "code",
   "execution_count": 227,
   "metadata": {},
   "outputs": [],
   "source": [
    "drama_idx=datas3.index[(datas3['listed_in'].str.contains('Drama'))]\n",
    "comedy_idx=datas3.index[(datas3['listed_in'].str.contains('Comedi'))]\n",
    "crime_idx=datas3.index[(datas3['listed_in'].str.contains('Crime'))]\n",
    "ani_idx=datas3.index[(datas3['listed_in'].str.contains('Ani'))]"
   ]
  },
  {
   "cell_type": "code",
   "execution_count": 228,
   "metadata": {},
   "outputs": [
    {
     "name": "stderr",
     "output_type": "stream",
     "text": [
      "<ipython-input-228-0902adf4a656>:4: SettingWithCopyWarning: \n",
      "A value is trying to be set on a copy of a slice from a DataFrame\n",
      "\n",
      "See the caveats in the documentation: https://pandas.pydata.org/pandas-docs/stable/user_guide/indexing.html#returning-a-view-versus-a-copy\n",
      "  data[\"listed_in\"][i]=\"Drama\"\n",
      "<ipython-input-228-0902adf4a656>:6: SettingWithCopyWarning: \n",
      "A value is trying to be set on a copy of a slice from a DataFrame\n",
      "\n",
      "See the caveats in the documentation: https://pandas.pydata.org/pandas-docs/stable/user_guide/indexing.html#returning-a-view-versus-a-copy\n",
      "  data[\"listed_in\"][i]=\"Comedy\"\n",
      "<ipython-input-228-0902adf4a656>:10: SettingWithCopyWarning: \n",
      "A value is trying to be set on a copy of a slice from a DataFrame\n",
      "\n",
      "See the caveats in the documentation: https://pandas.pydata.org/pandas-docs/stable/user_guide/indexing.html#returning-a-view-versus-a-copy\n",
      "  data[\"listed_in\"][i]=\"Animated\"\n",
      "<ipython-input-228-0902adf4a656>:8: SettingWithCopyWarning: \n",
      "A value is trying to be set on a copy of a slice from a DataFrame\n",
      "\n",
      "See the caveats in the documentation: https://pandas.pydata.org/pandas-docs/stable/user_guide/indexing.html#returning-a-view-versus-a-copy\n",
      "  data[\"listed_in\"][i]=\"Crime\"\n"
     ]
    }
   ],
   "source": [
    "data=datas3.copy()\n",
    "for i in range(len(data)):\n",
    "    if i in drama_idx:\n",
    "        data[\"listed_in\"][i]=\"Drama\"\n",
    "    elif i in comedy_idx:\n",
    "        data[\"listed_in\"][i]=\"Comedy\"\n",
    "    elif i in crime_idx:\n",
    "        data[\"listed_in\"][i]=\"Crime\"\n",
    "    elif i in ani_idx:\n",
    "        data[\"listed_in\"][i]=\"Animated\"\n",
    "        "
   ]
  },
  {
   "cell_type": "code",
   "execution_count": 229,
   "metadata": {},
   "outputs": [],
   "source": [
    "data.head(30)\n",
    "\n",
    "data1=data[(data['date_added'].str.contains('January')|data['date_added'].str.contains('February')|data['date_added'].str.contains('March'))]\n",
    "data2=data[(data['date_added'].str.contains('June')|data['date_added'].str.contains('April')|data['date_added'].str.contains('May'))]\n",
    "data3=data[(data['date_added'].str.contains('July')|data['date_added'].str.contains('August')|data['date_added'].str.contains('September'))]\n",
    "data4=data[(data['date_added'].str.contains('October')|data['date_added'].str.contains('November')|data['date_added'].str.contains('December'))]"
   ]
  },
  {
   "cell_type": "code",
   "execution_count": 188,
   "metadata": {},
   "outputs": [],
   "source": [
    "t1=data1[data1['listed_in'].str.contains('Drama')]\n",
    "top1=t1['title']\n",
    "t2=data1[data1['listed_in'].str.contains('Comedy')]\n",
    "top2=t2['title']"
   ]
  },
  {
   "cell_type": "code",
   "execution_count": 256,
   "metadata": {},
   "outputs": [],
   "source": [
    "t1=data2[data2['listed_in'].str.contains('Crime')]\n",
    "top1=t1['title']\n",
    "t2=data2[data2['listed_in'].str.contains('Drama')]\n",
    "top2=t2['title']"
   ]
  },
  {
   "cell_type": "code",
   "execution_count": 249,
   "metadata": {},
   "outputs": [],
   "source": [
    "t1=data3[data3['listed_in'].str.contains('Drama')]\n",
    "top1=t1['title']\n",
    "t2=data3[data3['listed_in'].str.contains('Comedy')]\n",
    "top2=t2['title']"
   ]
  },
  {
   "cell_type": "code",
   "execution_count": 232,
   "metadata": {},
   "outputs": [],
   "source": [
    "t1=data4[data4['listed_in'].str.contains('Drama')]\n",
    "top1=t1['title']\n",
    "t2=data4[data4['listed_in'].str.contains('Comedy')]\n",
    "top2=t2['title']"
   ]
  },
  {
   "cell_type": "code",
   "execution_count": 257,
   "metadata": {},
   "outputs": [
    {
     "data": {
      "text/plain": [
       "737                        Trese\n",
       "3860    Crime Diaries: Night Out\n",
       "5435                  Man to Man\n",
       "Name: title, dtype: object"
      ]
     },
     "execution_count": 257,
     "metadata": {},
     "output_type": "execute_result"
    }
   ],
   "source": [
    "top1"
   ]
  },
  {
   "cell_type": "code",
   "execution_count": 250,
   "metadata": {},
   "outputs": [
    {
     "data": {
      "text/plain": [
       "7                               Sankofa\n",
       "9                          The Starling\n",
       "12                         Je Suis Karl\n",
       "38                  Birth of the Dragon\n",
       "41                                 Jaws\n",
       "                     ...               \n",
       "8719           What a Wonderful Family!\n",
       "8735    Who's That Knocking at My Door?\n",
       "8743                           Wildlife\n",
       "8751                    Wish I Was Here\n",
       "8788                       You Carry Me\n",
       "Name: title, Length: 572, dtype: object"
      ]
     },
     "execution_count": 250,
     "metadata": {},
     "output_type": "execute_result"
    }
   ],
   "source": [
    "top1"
   ]
  },
  {
   "cell_type": "code",
   "execution_count": 255,
   "metadata": {},
   "outputs": [
    {
     "data": {
      "text/html": [
       "<div>\n",
       "<style scoped>\n",
       "    .dataframe tbody tr th:only-of-type {\n",
       "        vertical-align: middle;\n",
       "    }\n",
       "\n",
       "    .dataframe tbody tr th {\n",
       "        vertical-align: top;\n",
       "    }\n",
       "\n",
       "    .dataframe thead th {\n",
       "        text-align: right;\n",
       "    }\n",
       "</style>\n",
       "<table border=\"1\" class=\"dataframe\">\n",
       "  <thead>\n",
       "    <tr style=\"text-align: right;\">\n",
       "      <th></th>\n",
       "      <th>TITLE</th>\n",
       "      <th>POINTS</th>\n",
       "      <th>COUNTRIES</th>\n",
       "      <th>DAYS</th>\n",
       "      <th>TOTAL</th>\n",
       "      <th>type</th>\n",
       "    </tr>\n",
       "  </thead>\n",
       "  <tbody>\n",
       "    <tr>\n",
       "      <th>28</th>\n",
       "      <td>The Woman in the Window</td>\n",
       "      <td>8,547</td>\n",
       "      <td>82</td>\n",
       "      <td>33</td>\n",
       "      <td>8,547</td>\n",
       "      <td>Movie</td>\n",
       "    </tr>\n",
       "    <tr>\n",
       "      <th>29</th>\n",
       "      <td>365 Days</td>\n",
       "      <td>8,488</td>\n",
       "      <td>60</td>\n",
       "      <td>313</td>\n",
       "      <td>8,488</td>\n",
       "      <td>Movie</td>\n",
       "    </tr>\n",
       "    <tr>\n",
       "      <th>43</th>\n",
       "      <td>Awake</td>\n",
       "      <td>7,217</td>\n",
       "      <td>81</td>\n",
       "      <td>24</td>\n",
       "      <td>7,217</td>\n",
       "      <td>Movie</td>\n",
       "    </tr>\n",
       "    <tr>\n",
       "      <th>78</th>\n",
       "      <td>Stowaway</td>\n",
       "      <td>4,955</td>\n",
       "      <td>61</td>\n",
       "      <td>22</td>\n",
       "      <td>4,955</td>\n",
       "      <td>Movie</td>\n",
       "    </tr>\n",
       "    <tr>\n",
       "      <th>84</th>\n",
       "      <td>Blue Miracle</td>\n",
       "      <td>4,724</td>\n",
       "      <td>81</td>\n",
       "      <td>20</td>\n",
       "      <td>4,724</td>\n",
       "      <td>Movie</td>\n",
       "    </tr>\n",
       "    <tr>\n",
       "      <th>96</th>\n",
       "      <td>I Am All Girls</td>\n",
       "      <td>4,089</td>\n",
       "      <td>79</td>\n",
       "      <td>19</td>\n",
       "      <td>4,089</td>\n",
       "      <td>Movie</td>\n",
       "    </tr>\n",
       "    <tr>\n",
       "      <th>107</th>\n",
       "      <td>Skater Girl</td>\n",
       "      <td>3,739</td>\n",
       "      <td>79</td>\n",
       "      <td>21</td>\n",
       "      <td>3,739</td>\n",
       "      <td>Movie</td>\n",
       "    </tr>\n",
       "    <tr>\n",
       "      <th>117</th>\n",
       "      <td>Oxygen</td>\n",
       "      <td>3,414</td>\n",
       "      <td>82</td>\n",
       "      <td>24</td>\n",
       "      <td>3,414</td>\n",
       "      <td>Movie</td>\n",
       "    </tr>\n",
       "    <tr>\n",
       "      <th>124</th>\n",
       "      <td>Security</td>\n",
       "      <td>3,276</td>\n",
       "      <td>75</td>\n",
       "      <td>16</td>\n",
       "      <td>3,276</td>\n",
       "      <td>Movie</td>\n",
       "    </tr>\n",
       "    <tr>\n",
       "      <th>133</th>\n",
       "      <td>Into the Beat</td>\n",
       "      <td>2,851</td>\n",
       "      <td>69</td>\n",
       "      <td>15</td>\n",
       "      <td>2,851</td>\n",
       "      <td>Movie</td>\n",
       "    </tr>\n",
       "    <tr>\n",
       "      <th>148</th>\n",
       "      <td>Monster</td>\n",
       "      <td>2,453</td>\n",
       "      <td>65</td>\n",
       "      <td>10</td>\n",
       "      <td>2,453</td>\n",
       "      <td>Movie</td>\n",
       "    </tr>\n",
       "    <tr>\n",
       "      <th>157</th>\n",
       "      <td>Madame Claude</td>\n",
       "      <td>2,179</td>\n",
       "      <td>60</td>\n",
       "      <td>25</td>\n",
       "      <td>2,179</td>\n",
       "      <td>Movie</td>\n",
       "    </tr>\n",
       "    <tr>\n",
       "      <th>141</th>\n",
       "      <td>Halston</td>\n",
       "      <td>2,015</td>\n",
       "      <td>47</td>\n",
       "      <td>18</td>\n",
       "      <td>2,015</td>\n",
       "      <td>TV Show</td>\n",
       "    </tr>\n",
       "    <tr>\n",
       "      <th>17</th>\n",
       "      <td>Riverdale</td>\n",
       "      <td>18,915</td>\n",
       "      <td>60</td>\n",
       "      <td>226</td>\n",
       "      <td>18,915</td>\n",
       "      <td>TV Show</td>\n",
       "    </tr>\n",
       "    <tr>\n",
       "      <th>6</th>\n",
       "      <td>Fatherhood</td>\n",
       "      <td>14,660</td>\n",
       "      <td>82</td>\n",
       "      <td>54</td>\n",
       "      <td>14,660</td>\n",
       "      <td>Movie</td>\n",
       "    </tr>\n",
       "  </tbody>\n",
       "</table>\n",
       "</div>"
      ],
      "text/plain": [
       "                       TITLE  POINTS COUNTRIES DAYS   TOTAL     type\n",
       "28   The Woman in the Window   8,547        82   33   8,547    Movie\n",
       "29                  365 Days   8,488        60  313   8,488    Movie\n",
       "43                     Awake   7,217        81   24   7,217    Movie\n",
       "78                  Stowaway   4,955        61   22   4,955    Movie\n",
       "84              Blue Miracle   4,724        81   20   4,724    Movie\n",
       "96            I Am All Girls   4,089        79   19   4,089    Movie\n",
       "107              Skater Girl   3,739        79   21   3,739    Movie\n",
       "117                   Oxygen   3,414        82   24   3,414    Movie\n",
       "124                 Security   3,276        75   16   3,276    Movie\n",
       "133            Into the Beat   2,851        69   15   2,851    Movie\n",
       "148                  Monster   2,453        65   10   2,453    Movie\n",
       "157            Madame Claude   2,179        60   25   2,179    Movie\n",
       "141                  Halston   2,015        47   18   2,015  TV Show\n",
       "17                 Riverdale  18,915        60  226  18,915  TV Show\n",
       "6                 Fatherhood  14,660        82   54  14,660    Movie"
      ]
     },
     "execution_count": 255,
     "metadata": {},
     "output_type": "execute_result"
    }
   ],
   "source": [
    "dd=data_fix[data_fix['TITLE']==list(top2)[0]]\n",
    "\n",
    "for i in list(top2)[1:]:\n",
    "\n",
    "    dd=pd.concat([dd,data_fix[data_fix['TITLE']==i]])\n",
    "\n",
    "dd= dd.sort_values(by='POINTS' ,ascending=False)\n",
    "dd"
   ]
  },
  {
   "cell_type": "markdown",
   "metadata": {},
   "source": [
    "top1 에 있는 data_fix : data_fix에 없으면 나가리\n",
    "data_fix의 포인트 순위가 높은거\n"
   ]
  },
  {
   "cell_type": "code",
   "execution_count": 138,
   "metadata": {},
   "outputs": [
    {
     "ename": "TypeError",
     "evalue": "'Series' objects are mutable, thus they cannot be hashed",
     "output_type": "error",
     "traceback": [
      "\u001b[1;31m---------------------------------------------------------------------------\u001b[0m",
      "\u001b[1;31mTypeError\u001b[0m                                 Traceback (most recent call last)",
      "\u001b[1;32m<ipython-input-138-ab082c67049b>\u001b[0m in \u001b[0;36m<module>\u001b[1;34m\u001b[0m\n\u001b[1;32m----> 1\u001b[1;33m \u001b[0mdata2\u001b[0m\u001b[1;33m=\u001b[0m\u001b[0mdata_fix\u001b[0m\u001b[1;33m[\u001b[0m\u001b[0mdata_fix\u001b[0m\u001b[1;33m[\u001b[0m\u001b[1;34m'TITLE'\u001b[0m\u001b[1;33m]\u001b[0m \u001b[1;32min\u001b[0m \u001b[0mtop1\u001b[0m\u001b[1;33m]\u001b[0m\u001b[1;33m\u001b[0m\u001b[1;33m\u001b[0m\u001b[0m\n\u001b[0m",
      "\u001b[1;32m~\\anaconda3\\lib\\site-packages\\pandas\\core\\generic.py\u001b[0m in \u001b[0;36m__contains__\u001b[1;34m(self, key)\u001b[0m\n\u001b[0;32m   1837\u001b[0m     \u001b[1;32mdef\u001b[0m \u001b[0m__contains__\u001b[0m\u001b[1;33m(\u001b[0m\u001b[0mself\u001b[0m\u001b[1;33m,\u001b[0m \u001b[0mkey\u001b[0m\u001b[1;33m)\u001b[0m \u001b[1;33m->\u001b[0m \u001b[0mbool_t\u001b[0m\u001b[1;33m:\u001b[0m\u001b[1;33m\u001b[0m\u001b[1;33m\u001b[0m\u001b[0m\n\u001b[0;32m   1838\u001b[0m         \u001b[1;34m\"\"\"True if the key is in the info axis\"\"\"\u001b[0m\u001b[1;33m\u001b[0m\u001b[1;33m\u001b[0m\u001b[0m\n\u001b[1;32m-> 1839\u001b[1;33m         \u001b[1;32mreturn\u001b[0m \u001b[0mkey\u001b[0m \u001b[1;32min\u001b[0m \u001b[0mself\u001b[0m\u001b[1;33m.\u001b[0m\u001b[0m_info_axis\u001b[0m\u001b[1;33m\u001b[0m\u001b[1;33m\u001b[0m\u001b[0m\n\u001b[0m\u001b[0;32m   1840\u001b[0m \u001b[1;33m\u001b[0m\u001b[0m\n\u001b[0;32m   1841\u001b[0m     \u001b[1;33m@\u001b[0m\u001b[0mproperty\u001b[0m\u001b[1;33m\u001b[0m\u001b[1;33m\u001b[0m\u001b[0m\n",
      "\u001b[1;32m~\\anaconda3\\lib\\site-packages\\pandas\\core\\indexes\\numeric.py\u001b[0m in \u001b[0;36m__contains__\u001b[1;34m(self, key)\u001b[0m\n\u001b[0;32m    262\u001b[0m         \u001b[0mCheck\u001b[0m \u001b[1;32mif\u001b[0m \u001b[0mkey\u001b[0m \u001b[1;32mis\u001b[0m \u001b[0ma\u001b[0m \u001b[0mfloat\u001b[0m \u001b[1;32mand\u001b[0m \u001b[0mhas\u001b[0m \u001b[0ma\u001b[0m \u001b[0mdecimal\u001b[0m\u001b[1;33m.\u001b[0m \u001b[0mIf\u001b[0m \u001b[0mit\u001b[0m \u001b[0mhas\u001b[0m\u001b[1;33m,\u001b[0m \u001b[1;32mreturn\u001b[0m \u001b[1;32mFalse\u001b[0m\u001b[1;33m.\u001b[0m\u001b[1;33m\u001b[0m\u001b[1;33m\u001b[0m\u001b[0m\n\u001b[0;32m    263\u001b[0m         \"\"\"\n\u001b[1;32m--> 264\u001b[1;33m         \u001b[0mhash\u001b[0m\u001b[1;33m(\u001b[0m\u001b[0mkey\u001b[0m\u001b[1;33m)\u001b[0m\u001b[1;33m\u001b[0m\u001b[1;33m\u001b[0m\u001b[0m\n\u001b[0m\u001b[0;32m    265\u001b[0m         \u001b[1;32mtry\u001b[0m\u001b[1;33m:\u001b[0m\u001b[1;33m\u001b[0m\u001b[1;33m\u001b[0m\u001b[0m\n\u001b[0;32m    266\u001b[0m             \u001b[1;32mif\u001b[0m \u001b[0mis_float\u001b[0m\u001b[1;33m(\u001b[0m\u001b[0mkey\u001b[0m\u001b[1;33m)\u001b[0m \u001b[1;32mand\u001b[0m \u001b[0mint\u001b[0m\u001b[1;33m(\u001b[0m\u001b[0mkey\u001b[0m\u001b[1;33m)\u001b[0m \u001b[1;33m!=\u001b[0m \u001b[0mkey\u001b[0m\u001b[1;33m:\u001b[0m\u001b[1;33m\u001b[0m\u001b[1;33m\u001b[0m\u001b[0m\n",
      "\u001b[1;32m~\\anaconda3\\lib\\site-packages\\pandas\\core\\generic.py\u001b[0m in \u001b[0;36m__hash__\u001b[1;34m(self)\u001b[0m\n\u001b[0;32m   1783\u001b[0m \u001b[1;33m\u001b[0m\u001b[0m\n\u001b[0;32m   1784\u001b[0m     \u001b[1;32mdef\u001b[0m \u001b[0m__hash__\u001b[0m\u001b[1;33m(\u001b[0m\u001b[0mself\u001b[0m\u001b[1;33m)\u001b[0m \u001b[1;33m->\u001b[0m \u001b[0mint\u001b[0m\u001b[1;33m:\u001b[0m\u001b[1;33m\u001b[0m\u001b[1;33m\u001b[0m\u001b[0m\n\u001b[1;32m-> 1785\u001b[1;33m         raise TypeError(\n\u001b[0m\u001b[0;32m   1786\u001b[0m             \u001b[1;34mf\"{repr(type(self).__name__)} objects are mutable, \"\u001b[0m\u001b[1;33m\u001b[0m\u001b[1;33m\u001b[0m\u001b[0m\n\u001b[0;32m   1787\u001b[0m             \u001b[1;34mf\"thus they cannot be hashed\"\u001b[0m\u001b[1;33m\u001b[0m\u001b[1;33m\u001b[0m\u001b[0m\n",
      "\u001b[1;31mTypeError\u001b[0m: 'Series' objects are mutable, thus they cannot be hashed"
     ]
    }
   ],
   "source": [
    "data2=data_fix[data_fix['TITLE']==list(top1)[0]]\n",
    "\n",
    "for i in list(top1)[1:]:\n",
    "\n",
    "    data2=pd.concat([data2,data_fix[data_fix['TITLE']==i]])\n",
    "\n",
    "data2= data2.sort_values(by='POINTS' ,ascending=False)\n"
   ]
  },
  {
   "cell_type": "code",
   "execution_count": 136,
   "metadata": {},
   "outputs": [
    {
     "data": {
      "text/plain": [
       "pandas.core.series.Series"
      ]
     },
     "execution_count": 136,
     "metadata": {},
     "output_type": "execute_result"
    }
   ],
   "source": [
    "type(top1)"
   ]
  },
  {
   "cell_type": "code",
   "execution_count": 137,
   "metadata": {},
   "outputs": [
    {
     "data": {
      "text/plain": [
       "pandas.core.series.Series"
      ]
     },
     "execution_count": 137,
     "metadata": {},
     "output_type": "execute_result"
    }
   ],
   "source": [
    "type(data_fix['TITLE'])"
   ]
  },
  {
   "cell_type": "code",
   "execution_count": 21,
   "metadata": {},
   "outputs": [],
   "source": [
    "#2021 분기별 \n",
    "def net(code,what):\n",
    "    url=f\"https://flixpatrol.com/preferences/netflix/overall/all/{code}/\"\n",
    "    response=requests.get(url)\n",
    "    dom = BeautifulSoup(response.text, \"html.parser\")\n",
    "    elements = dom.select(f\"body > div:nth-child(3) > div > div:nth-child({what}) > div.card > table > tbody > tr\")\n",
    "    data = []\n",
    "    for element in elements:\n",
    "        data.append({\n",
    "       \n",
    "            \"TITLE\":element.select_one(\".table-td:nth-child(2)\").text.strip(),\n",
    "            f\"per {code}\":element.select_one(\".table-td:nth-child(3)\").text.strip(),\n",
    "    \n",
    "    })\n",
    "        \n",
    "#     data=pd.DataFrame(data)\n",
    "#     data['code']=code\n",
    "    return pd.DataFrame(data)\n"
   ]
  },
  {
   "cell_type": "code",
   "execution_count": 22,
   "metadata": {},
   "outputs": [],
   "source": [
    "# what : 1 : country  3: genre  5: company\n",
    "\n",
    "genre=net(code=\"2021-1\",what=3)\n",
    "\n",
    "codes=['2021-2','2021-3','2021-4']\n",
    "for c in codes:\n",
    "    genre=pd.merge(genre,net(code=c,what=3),how='outer')\n",
    "\n",
    "\n",
    "country=net(code=\"2021-1\",what=1)\n",
    "codes=['2021-2','2021-3','2021-4']\n",
    "for c in codes:\n",
    "    country=pd.merge(country,net(code=c,what=1))\n",
    "    \n",
    "company=net(code=\"2021-1\",what=5)\n",
    "codes=['2021-2','2021-3','2021-4']\n",
    "for c in codes:\n",
    "    company=pd.merge(company,net(code=c,what=5))"
   ]
  },
  {
   "cell_type": "code",
   "execution_count": 23,
   "metadata": {},
   "outputs": [
    {
     "data": {
      "text/html": [
       "<div>\n",
       "<style scoped>\n",
       "    .dataframe tbody tr th:only-of-type {\n",
       "        vertical-align: middle;\n",
       "    }\n",
       "\n",
       "    .dataframe tbody tr th {\n",
       "        vertical-align: top;\n",
       "    }\n",
       "\n",
       "    .dataframe thead th {\n",
       "        text-align: right;\n",
       "    }\n",
       "</style>\n",
       "<table border=\"1\" class=\"dataframe\">\n",
       "  <thead>\n",
       "    <tr style=\"text-align: right;\">\n",
       "      <th></th>\n",
       "      <th>TITLE</th>\n",
       "      <th>per 2021-1</th>\n",
       "      <th>per 2021-2</th>\n",
       "      <th>per 2021-3</th>\n",
       "      <th>per 2021-4</th>\n",
       "    </tr>\n",
       "  </thead>\n",
       "  <tbody>\n",
       "    <tr>\n",
       "      <th>0</th>\n",
       "      <td>Drama</td>\n",
       "      <td>21.8%</td>\n",
       "      <td>13.3%</td>\n",
       "      <td>24.1%</td>\n",
       "      <td>18.5%</td>\n",
       "    </tr>\n",
       "    <tr>\n",
       "      <th>1</th>\n",
       "      <td>Comedy</td>\n",
       "      <td>14.1%</td>\n",
       "      <td>11.3%</td>\n",
       "      <td>14.1%</td>\n",
       "      <td>14.1%</td>\n",
       "    </tr>\n",
       "    <tr>\n",
       "      <th>2</th>\n",
       "      <td>Crime</td>\n",
       "      <td>11.3%</td>\n",
       "      <td>17.1%</td>\n",
       "      <td>6.2%</td>\n",
       "      <td>9.7%</td>\n",
       "    </tr>\n",
       "    <tr>\n",
       "      <th>3</th>\n",
       "      <td>Sci-fi</td>\n",
       "      <td>8.7%</td>\n",
       "      <td>4.6%</td>\n",
       "      <td>2.6%</td>\n",
       "      <td>3.5%</td>\n",
       "    </tr>\n",
       "    <tr>\n",
       "      <th>4</th>\n",
       "      <td>Animated</td>\n",
       "      <td>7.1%</td>\n",
       "      <td>15.4%</td>\n",
       "      <td>11.8%</td>\n",
       "      <td>10.0%</td>\n",
       "    </tr>\n",
       "    <tr>\n",
       "      <th>5</th>\n",
       "      <td>Adventure</td>\n",
       "      <td>6.7%</td>\n",
       "      <td>3.2%</td>\n",
       "      <td>2.9%</td>\n",
       "      <td>1.3%</td>\n",
       "    </tr>\n",
       "    <tr>\n",
       "      <th>6</th>\n",
       "      <td>Thriller</td>\n",
       "      <td>6.0%</td>\n",
       "      <td>6.5%</td>\n",
       "      <td>7.5%</td>\n",
       "      <td>9.6%</td>\n",
       "    </tr>\n",
       "    <tr>\n",
       "      <th>7</th>\n",
       "      <td>Action</td>\n",
       "      <td>5.6%</td>\n",
       "      <td>6.3%</td>\n",
       "      <td>12.3%</td>\n",
       "      <td>13.1%</td>\n",
       "    </tr>\n",
       "    <tr>\n",
       "      <th>8</th>\n",
       "      <td>Fantasy</td>\n",
       "      <td>5.0%</td>\n",
       "      <td>4.1%</td>\n",
       "      <td>1.3%</td>\n",
       "      <td>2.5%</td>\n",
       "    </tr>\n",
       "    <tr>\n",
       "      <th>9</th>\n",
       "      <td>Documentary</td>\n",
       "      <td>4.3%</td>\n",
       "      <td>2.1%</td>\n",
       "      <td>3.4%</td>\n",
       "      <td>1.4%</td>\n",
       "    </tr>\n",
       "    <tr>\n",
       "      <th>10</th>\n",
       "      <td>Romance</td>\n",
       "      <td>2.8%</td>\n",
       "      <td>3.2%</td>\n",
       "      <td>1.7%</td>\n",
       "      <td>3.2%</td>\n",
       "    </tr>\n",
       "    <tr>\n",
       "      <th>11</th>\n",
       "      <td>Superhero</td>\n",
       "      <td>2.3%</td>\n",
       "      <td>7.1%</td>\n",
       "      <td>3.2%</td>\n",
       "      <td>4.4%</td>\n",
       "    </tr>\n",
       "    <tr>\n",
       "      <th>12</th>\n",
       "      <td>Horror</td>\n",
       "      <td>1.8%</td>\n",
       "      <td>3.1%</td>\n",
       "      <td>4.3%</td>\n",
       "      <td>3.2%</td>\n",
       "    </tr>\n",
       "    <tr>\n",
       "      <th>13</th>\n",
       "      <td>Western</td>\n",
       "      <td>1.0%</td>\n",
       "      <td>0.0%</td>\n",
       "      <td>0.4%</td>\n",
       "      <td>1.4%</td>\n",
       "    </tr>\n",
       "    <tr>\n",
       "      <th>14</th>\n",
       "      <td>Unscripted</td>\n",
       "      <td>0.8%</td>\n",
       "      <td>1.7%</td>\n",
       "      <td>2.3%</td>\n",
       "      <td>1.2%</td>\n",
       "    </tr>\n",
       "    <tr>\n",
       "      <th>15</th>\n",
       "      <td>Other</td>\n",
       "      <td>0.4%</td>\n",
       "      <td>0.7%</td>\n",
       "      <td>1.7%</td>\n",
       "      <td>1.8%</td>\n",
       "    </tr>\n",
       "    <tr>\n",
       "      <th>16</th>\n",
       "      <td>War</td>\n",
       "      <td>0.1%</td>\n",
       "      <td>0.1%</td>\n",
       "      <td>0.1%</td>\n",
       "      <td>1.2%</td>\n",
       "    </tr>\n",
       "    <tr>\n",
       "      <th>17</th>\n",
       "      <td>Family</td>\n",
       "      <td>0.0%</td>\n",
       "      <td>0.0%</td>\n",
       "      <td>0.0%</td>\n",
       "      <td>0.0%</td>\n",
       "    </tr>\n",
       "  </tbody>\n",
       "</table>\n",
       "</div>"
      ],
      "text/plain": [
       "          TITLE per 2021-1 per 2021-2 per 2021-3 per 2021-4\n",
       "0         Drama      21.8%      13.3%      24.1%      18.5%\n",
       "1        Comedy      14.1%      11.3%      14.1%      14.1%\n",
       "2         Crime      11.3%      17.1%       6.2%       9.7%\n",
       "3        Sci-fi       8.7%       4.6%       2.6%       3.5%\n",
       "4      Animated       7.1%      15.4%      11.8%      10.0%\n",
       "5     Adventure       6.7%       3.2%       2.9%       1.3%\n",
       "6      Thriller       6.0%       6.5%       7.5%       9.6%\n",
       "7        Action       5.6%       6.3%      12.3%      13.1%\n",
       "8       Fantasy       5.0%       4.1%       1.3%       2.5%\n",
       "9   Documentary       4.3%       2.1%       3.4%       1.4%\n",
       "10      Romance       2.8%       3.2%       1.7%       3.2%\n",
       "11    Superhero       2.3%       7.1%       3.2%       4.4%\n",
       "12       Horror       1.8%       3.1%       4.3%       3.2%\n",
       "13      Western       1.0%       0.0%       0.4%       1.4%\n",
       "14   Unscripted       0.8%       1.7%       2.3%       1.2%\n",
       "15        Other       0.4%       0.7%       1.7%       1.8%\n",
       "16          War       0.1%       0.1%       0.1%       1.2%\n",
       "17       Family       0.0%       0.0%       0.0%       0.0%"
      ]
     },
     "execution_count": 23,
     "metadata": {},
     "output_type": "execute_result"
    }
   ],
   "source": [
    "# 2021년 각 분기별 장르 비율 \n",
    "genre"
   ]
  },
  {
   "cell_type": "code",
   "execution_count": 24,
   "metadata": {},
   "outputs": [
    {
     "data": {
      "text/html": [
       "<div>\n",
       "<style scoped>\n",
       "    .dataframe tbody tr th:only-of-type {\n",
       "        vertical-align: middle;\n",
       "    }\n",
       "\n",
       "    .dataframe tbody tr th {\n",
       "        vertical-align: top;\n",
       "    }\n",
       "\n",
       "    .dataframe thead th {\n",
       "        text-align: right;\n",
       "    }\n",
       "</style>\n",
       "<table border=\"1\" class=\"dataframe\">\n",
       "  <thead>\n",
       "    <tr style=\"text-align: right;\">\n",
       "      <th></th>\n",
       "      <th>TITLE</th>\n",
       "      <th>per 2021-1</th>\n",
       "      <th>per 2021-2</th>\n",
       "      <th>per 2021-3</th>\n",
       "      <th>per 2021-4</th>\n",
       "    </tr>\n",
       "  </thead>\n",
       "  <tbody>\n",
       "    <tr>\n",
       "      <th>0</th>\n",
       "      <td>North America</td>\n",
       "      <td>63.5%</td>\n",
       "      <td>57.3%</td>\n",
       "      <td>63.9%</td>\n",
       "      <td>60.6%</td>\n",
       "    </tr>\n",
       "    <tr>\n",
       "      <th>1</th>\n",
       "      <td>Europe</td>\n",
       "      <td>20.1%</td>\n",
       "      <td>19.7%</td>\n",
       "      <td>16.7%</td>\n",
       "      <td>14.1%</td>\n",
       "    </tr>\n",
       "    <tr>\n",
       "      <th>2</th>\n",
       "      <td>Asia</td>\n",
       "      <td>9.9%</td>\n",
       "      <td>12.4%</td>\n",
       "      <td>11.4%</td>\n",
       "      <td>16.9%</td>\n",
       "    </tr>\n",
       "    <tr>\n",
       "      <th>3</th>\n",
       "      <td>Latin America</td>\n",
       "      <td>4.6%</td>\n",
       "      <td>8.2%</td>\n",
       "      <td>5.6%</td>\n",
       "      <td>5.8%</td>\n",
       "    </tr>\n",
       "    <tr>\n",
       "      <th>4</th>\n",
       "      <td>Other</td>\n",
       "      <td>1.3%</td>\n",
       "      <td>1.1%</td>\n",
       "      <td>1.3%</td>\n",
       "      <td>1.3%</td>\n",
       "    </tr>\n",
       "    <tr>\n",
       "      <th>5</th>\n",
       "      <td>Africa</td>\n",
       "      <td>0.4%</td>\n",
       "      <td>1.0%</td>\n",
       "      <td>0.5%</td>\n",
       "      <td>1.0%</td>\n",
       "    </tr>\n",
       "    <tr>\n",
       "      <th>6</th>\n",
       "      <td>Oceania</td>\n",
       "      <td>0.3%</td>\n",
       "      <td>0.4%</td>\n",
       "      <td>0.6%</td>\n",
       "      <td>0.5%</td>\n",
       "    </tr>\n",
       "  </tbody>\n",
       "</table>\n",
       "</div>"
      ],
      "text/plain": [
       "           TITLE per 2021-1 per 2021-2 per 2021-3 per 2021-4\n",
       "0  North America      63.5%      57.3%      63.9%      60.6%\n",
       "1         Europe      20.1%      19.7%      16.7%      14.1%\n",
       "2           Asia       9.9%      12.4%      11.4%      16.9%\n",
       "3  Latin America       4.6%       8.2%       5.6%       5.8%\n",
       "4          Other       1.3%       1.1%       1.3%       1.3%\n",
       "5         Africa       0.4%       1.0%       0.5%       1.0%\n",
       "6        Oceania       0.3%       0.4%       0.6%       0.5%"
      ]
     },
     "execution_count": 24,
     "metadata": {},
     "output_type": "execute_result"
    }
   ],
   "source": [
    "# 각 분기별 대륙 비율\n",
    "country"
   ]
  },
  {
   "cell_type": "code",
   "execution_count": 25,
   "metadata": {},
   "outputs": [
    {
     "data": {
      "text/html": [
       "<div>\n",
       "<style scoped>\n",
       "    .dataframe tbody tr th:only-of-type {\n",
       "        vertical-align: middle;\n",
       "    }\n",
       "\n",
       "    .dataframe tbody tr th {\n",
       "        vertical-align: top;\n",
       "    }\n",
       "\n",
       "    .dataframe thead th {\n",
       "        text-align: right;\n",
       "    }\n",
       "</style>\n",
       "<table border=\"1\" class=\"dataframe\">\n",
       "  <thead>\n",
       "    <tr style=\"text-align: right;\">\n",
       "      <th></th>\n",
       "      <th>TITLE</th>\n",
       "      <th>per 2021-1</th>\n",
       "      <th>per 2021-2</th>\n",
       "      <th>per 2021-3</th>\n",
       "      <th>per 2021-4</th>\n",
       "    </tr>\n",
       "  </thead>\n",
       "  <tbody>\n",
       "    <tr>\n",
       "      <th>0</th>\n",
       "      <td>Netflix</td>\n",
       "      <td>57.4%</td>\n",
       "      <td>53.4%</td>\n",
       "      <td>60.8%</td>\n",
       "      <td>65.4%</td>\n",
       "    </tr>\n",
       "    <tr>\n",
       "      <th>1</th>\n",
       "      <td>Universal Pictures</td>\n",
       "      <td>3.6%</td>\n",
       "      <td>5.7%</td>\n",
       "      <td>2.4%</td>\n",
       "      <td>2.1%</td>\n",
       "    </tr>\n",
       "    <tr>\n",
       "      <th>2</th>\n",
       "      <td>Warner Bros. Pictures</td>\n",
       "      <td>3.1%</td>\n",
       "      <td>1.9%</td>\n",
       "      <td>2.1%</td>\n",
       "      <td>2.3%</td>\n",
       "    </tr>\n",
       "    <tr>\n",
       "      <th>3</th>\n",
       "      <td>Sony Pictures</td>\n",
       "      <td>2.6%</td>\n",
       "      <td>2.0%</td>\n",
       "      <td>1.8%</td>\n",
       "      <td>4.4%</td>\n",
       "    </tr>\n",
       "    <tr>\n",
       "      <th>4</th>\n",
       "      <td>20th Century Fox</td>\n",
       "      <td>0.4%</td>\n",
       "      <td>0.6%</td>\n",
       "      <td>2.5%</td>\n",
       "      <td>1.2%</td>\n",
       "    </tr>\n",
       "    <tr>\n",
       "      <th>5</th>\n",
       "      <td>Lionsgate</td>\n",
       "      <td>0.3%</td>\n",
       "      <td>0.3%</td>\n",
       "      <td>0.4%</td>\n",
       "      <td>0.5%</td>\n",
       "    </tr>\n",
       "    <tr>\n",
       "      <th>6</th>\n",
       "      <td>Canal Plus</td>\n",
       "      <td>0.2%</td>\n",
       "      <td>0.1%</td>\n",
       "      <td>0.1%</td>\n",
       "      <td>0.1%</td>\n",
       "    </tr>\n",
       "    <tr>\n",
       "      <th>7</th>\n",
       "      <td>MGM</td>\n",
       "      <td>0.0%</td>\n",
       "      <td>0.0%</td>\n",
       "      <td>1.3%</td>\n",
       "      <td>0.5%</td>\n",
       "    </tr>\n",
       "    <tr>\n",
       "      <th>8</th>\n",
       "      <td>STX Entertainment</td>\n",
       "      <td>0.0%</td>\n",
       "      <td>0.1%</td>\n",
       "      <td>0.0%</td>\n",
       "      <td>0.1%</td>\n",
       "    </tr>\n",
       "  </tbody>\n",
       "</table>\n",
       "</div>"
      ],
      "text/plain": [
       "                   TITLE per 2021-1 per 2021-2 per 2021-3 per 2021-4\n",
       "0                Netflix      57.4%      53.4%      60.8%      65.4%\n",
       "1     Universal Pictures       3.6%       5.7%       2.4%       2.1%\n",
       "2  Warner Bros. Pictures       3.1%       1.9%       2.1%       2.3%\n",
       "3          Sony Pictures       2.6%       2.0%       1.8%       4.4%\n",
       "4       20th Century Fox       0.4%       0.6%       2.5%       1.2%\n",
       "5              Lionsgate       0.3%       0.3%       0.4%       0.5%\n",
       "6             Canal Plus       0.2%       0.1%       0.1%       0.1%\n",
       "7                    MGM       0.0%       0.0%       1.3%       0.5%\n",
       "8      STX Entertainment       0.0%       0.1%       0.0%       0.1%"
      ]
     },
     "execution_count": 25,
     "metadata": {},
     "output_type": "execute_result"
    }
   ],
   "source": [
    "#각 분기별 배급사 비율\n",
    "company"
   ]
  },
  {
   "cell_type": "markdown",
   "metadata": {},
   "source": [
    "어떤 분석을 할지\n",
    "- 감독의 최고 흥행작\n",
    "- 영화 top 20 중 가장 많이 차지한 나라\n",
    "- 드라마 top 20 중 가장 많이 차지한 나라\n",
    "-"
   ]
  },
  {
   "cell_type": "markdown",
   "metadata": {},
   "source": [
    "#### EDA의 수행 절차\n",
    "- 데이터 수집\n",
    "- 결측 데이터의 처리\n",
    "- 데이터 탐색\n",
    "    - 수집한 데이터에서 자유롭게 주제를 선정하여 데이터 분석을 통한 인사이트 도출\n",
    "    - 예시 : 인도영화는 다른 국가보다 러닝타임이 길것이다. 컨텐츠의 퀄리티가 가장 좋은 국가는?"
   ]
  },
  {
   "cell_type": "markdown",
   "metadata": {
    "id": "g4w1j7NAynBx"
   },
   "source": [
    "#### 컨텐츠 타입과 컨텐츠 등급별 컨텐츠의 비율"
   ]
  },
  {
   "cell_type": "code",
   "execution_count": null,
   "metadata": {
    "colab": {
     "base_uri": "https://localhost:8080/",
     "height": 318
    },
    "executionInfo": {
     "elapsed": 67,
     "status": "ok",
     "timestamp": 1628755569608,
     "user": {
      "displayName": "Doojin Park",
      "photoUrl": "",
      "userId": "13081019711214908217"
     },
     "user_tz": -540
    },
    "id": "LZfA1tc9zTrp",
    "outputId": "c69ca75a-113b-408a-acbd-3b68e3633870"
   },
   "outputs": [],
   "source": [
    "# 아래의 코드는 EDA의 예시를 보여주는 것으로 실제 코드가 동작되지 않습니다.\n",
    "\n",
    "plt.figure(figsize=(20, 5))\n",
    "\n",
    "plt.subplot(121)\n",
    "plt.title(\"Movie\")\n",
    "plt.pie(movie_count.values, labels=movie_count.index, autopct=\"%1.1f%%\")\n",
    "\n",
    "plt.subplot(122)\n",
    "plt.title(\"TV Show\")\n",
    "plt.pie(tv_count.values, labels=tv_count.index, autopct=\"%1.1f%%\")\n",
    "\n",
    "plt.show()"
   ]
  },
  {
   "cell_type": "markdown",
   "metadata": {
    "id": "fqY1Bl980g24"
   },
   "source": [
    "결론 : 영화가 TV쇼 보다 청소년 관람불가 등급의 비율이 더 높고 TV가 영화보다 청소년관람등급의 컨텐츠의 비율이 더 높습니다."
   ]
  }
 ],
 "metadata": {
  "colab": {
   "collapsed_sections": [],
   "name": "netflix_project.ipynb",
   "provenance": []
  },
  "kernelspec": {
   "display_name": "Python 3",
   "language": "python",
   "name": "python3"
  },
  "language_info": {
   "codemirror_mode": {
    "name": "ipython",
    "version": 3
   },
   "file_extension": ".py",
   "mimetype": "text/x-python",
   "name": "python",
   "nbconvert_exporter": "python",
   "pygments_lexer": "ipython3",
   "version": "3.8.8"
  },
  "toc": {
   "base_numbering": 1,
   "nav_menu": {},
   "number_sections": false,
   "sideBar": true,
   "skip_h1_title": false,
   "title_cell": "Table of Contents",
   "title_sidebar": "Contents",
   "toc_cell": false,
   "toc_position": {},
   "toc_section_display": true,
   "toc_window_display": false
  }
 },
 "nbformat": 4,
 "nbformat_minor": 1
}
